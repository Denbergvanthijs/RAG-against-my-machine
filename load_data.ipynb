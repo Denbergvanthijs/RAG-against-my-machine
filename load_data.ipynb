{
 "cells": [
  {
   "cell_type": "code",
   "execution_count": 1,
   "metadata": {},
   "outputs": [],
   "source": [
    "import os\n",
    "\n",
    "import bs4\n",
    "import dotenv\n",
    "from langchain import hub\n",
    "from langchain_chroma import Chroma\n",
    "from langchain_community.document_loaders import WebBaseLoader\n",
    "from langchain_community.embeddings import HuggingFaceEmbeddings\n",
    "from langchain_community.llms import HuggingFaceEndpoint\n",
    "from langchain_community.llms.huggingface_pipeline import HuggingFacePipeline\n",
    "from langchain_core.output_parsers import StrOutputParser\n",
    "from langchain_core.runnables import RunnablePassthrough\n",
    "from langchain_text_splitters import RecursiveCharacterTextSplitter\n",
    "\n",
    "dotenv.load_dotenv()\n",
    "\n",
    "os.environ[\"LANGCHAIN_TRACING_V2\"] = \"true\"\n",
    "os.environ[\"LANGCHAIN_API_KEY\"] = os.getenv(\"LANGCHAIN_API_KEY\")\n",
    "os.environ[\"HUGGINGFACEHUB_API_TOKEN\"] = os.getenv(\"HUGGINGFACEHUB_API_TOKEN\")"
   ]
  },
  {
   "cell_type": "code",
   "execution_count": 9,
   "metadata": {},
   "outputs": [
    {
     "data": {
      "text/html": [
       "<div>\n",
       "<style scoped>\n",
       "    .dataframe tbody tr th:only-of-type {\n",
       "        vertical-align: middle;\n",
       "    }\n",
       "\n",
       "    .dataframe tbody tr th {\n",
       "        vertical-align: top;\n",
       "    }\n",
       "\n",
       "    .dataframe thead th {\n",
       "        text-align: right;\n",
       "    }\n",
       "</style>\n",
       "<table border=\"1\" class=\"dataframe\">\n",
       "  <thead>\n",
       "    <tr style=\"text-align: right;\">\n",
       "      <th></th>\n",
       "      <th>datetime</th>\n",
       "      <th>title</th>\n",
       "      <th>content</th>\n",
       "      <th>category</th>\n",
       "      <th>url</th>\n",
       "    </tr>\n",
       "  </thead>\n",
       "  <tbody>\n",
       "    <tr>\n",
       "      <th>0</th>\n",
       "      <td>2010-01-01 00:49:00</td>\n",
       "      <td>Enige Litouwse kerncentrale dicht</td>\n",
       "      <td>De enige kerncentrale van Litouwen is oudjaars...</td>\n",
       "      <td>Buitenland</td>\n",
       "      <td>https://nos.nl/artikel/126231-enige-litouwse-k...</td>\n",
       "    </tr>\n",
       "    <tr>\n",
       "      <th>1</th>\n",
       "      <td>2010-01-01 02:08:00</td>\n",
       "      <td>Spanje eerste EU-voorzitter onder nieuw verdrag</td>\n",
       "      <td>Spanje is met ingang van vandaag voorzitter va...</td>\n",
       "      <td>Buitenland</td>\n",
       "      <td>https://nos.nl/artikel/126230-spanje-eerste-eu...</td>\n",
       "    </tr>\n",
       "    <tr>\n",
       "      <th>2</th>\n",
       "      <td>2010-01-01 02:09:00</td>\n",
       "      <td>Fout justitie in Blackwater-zaak</td>\n",
       "      <td>Vijf werknemers van het omstreden Amerikaanse ...</td>\n",
       "      <td>Buitenland</td>\n",
       "      <td>https://nos.nl/artikel/126233-fout-justitie-in...</td>\n",
       "    </tr>\n",
       "    <tr>\n",
       "      <th>3</th>\n",
       "      <td>2010-01-01 05:14:00</td>\n",
       "      <td>Museumplein vol, minder druk in Rotterdam</td>\n",
       "      <td>Het Oud en Nieuwfeest op het Museumplein in Am...</td>\n",
       "      <td>Binnenland</td>\n",
       "      <td>https://nos.nl/artikel/126232-museumplein-vol-...</td>\n",
       "    </tr>\n",
       "    <tr>\n",
       "      <th>4</th>\n",
       "      <td>2010-01-01 05:30:00</td>\n",
       "      <td>Obama krijgt rapporten over aanslag</td>\n",
       "      <td>President Obama heeft de eerste rapporten gekr...</td>\n",
       "      <td>Buitenland</td>\n",
       "      <td>https://nos.nl/artikel/126236-obama-krijgt-rap...</td>\n",
       "    </tr>\n",
       "  </tbody>\n",
       "</table>\n",
       "</div>"
      ],
      "text/plain": [
       "              datetime                                            title  \\\n",
       "0  2010-01-01 00:49:00                Enige Litouwse kerncentrale dicht   \n",
       "1  2010-01-01 02:08:00  Spanje eerste EU-voorzitter onder nieuw verdrag   \n",
       "2  2010-01-01 02:09:00                 Fout justitie in Blackwater-zaak   \n",
       "3  2010-01-01 05:14:00        Museumplein vol, minder druk in Rotterdam   \n",
       "4  2010-01-01 05:30:00              Obama krijgt rapporten over aanslag   \n",
       "\n",
       "                                             content    category  \\\n",
       "0  De enige kerncentrale van Litouwen is oudjaars...  Buitenland   \n",
       "1  Spanje is met ingang van vandaag voorzitter va...  Buitenland   \n",
       "2  Vijf werknemers van het omstreden Amerikaanse ...  Buitenland   \n",
       "3  Het Oud en Nieuwfeest op het Museumplein in Am...  Binnenland   \n",
       "4  President Obama heeft de eerste rapporten gekr...  Buitenland   \n",
       "\n",
       "                                                 url  \n",
       "0  https://nos.nl/artikel/126231-enige-litouwse-k...  \n",
       "1  https://nos.nl/artikel/126230-spanje-eerste-eu...  \n",
       "2  https://nos.nl/artikel/126233-fout-justitie-in...  \n",
       "3  https://nos.nl/artikel/126232-museumplein-vol-...  \n",
       "4  https://nos.nl/artikel/126236-obama-krijgt-rap...  "
      ]
     },
     "execution_count": 9,
     "metadata": {},
     "output_type": "execute_result"
    }
   ],
   "source": [
    "# Load data in pandas, only first 10 rows\n",
    "import pandas as pd\n",
    "\n",
    "df = pd.read_csv(\"./data/dutch-news-articles.csv\", nrows=10, encoding=\"utf-8\")\n",
    "df.head()"
   ]
  },
  {
   "cell_type": "markdown",
   "metadata": {},
   "source": [
    "# RAG against my machine"
   ]
  },
  {
   "cell_type": "code",
   "execution_count": 29,
   "metadata": {},
   "outputs": [
    {
     "name": "stdout",
     "output_type": "stream",
     "text": [
      "content: De enige kerncentrale van Litouwen is oudjaarsavond om 23.00 uur buiten gebruik gesteld. Dat verliep zonder problemen, aldus de directeur. Litouwen beloofde al in 2004 om de centrale te sluiten in ruil voor toetreding tot de Europese Unie. De EU wilde sluiting omdat de kerncentrale bij de stad Visiginas mogelijk niet veilig was. Nucleaire ramp De centrale is een grotere versie van die bij Tsjernobyl. Die ontplofte in 1986 en veroorzaakte een nucleaire wolk die over een groot deel van Eu\n"
     ]
    }
   ],
   "source": [
    "from langchain_community.document_loaders.csv_loader import CSVLoader\n",
    "\n",
    "loader = CSVLoader(file_path=\"./data/dutch-news-articles.csv\", encoding=\"utf-8\", source_column=\"url\", metadata_columns=[\"title\", \"datetime\", \"category\"])\n",
    "\n",
    "data = loader.load()\n",
    "print(data[0].page_content[:500])  # Example of the first 500 characters of the first document"
   ]
  },
  {
   "cell_type": "code",
   "execution_count": 30,
   "metadata": {},
   "outputs": [
    {
     "data": {
      "text/plain": [
       "Document(page_content=\"content: Een vulkaanuitbarsting in het oosten van Congo bedreigt de leefomgeving van een aantal zeldzame chimpansees. Volgens de beheerders van het Virunga National Park wordt de situatie nauwlettend in de gaten gehouden. Dat gebeurt onder meer met helikopters van de VN. De vulkaan Nyamulagira barstte vanochtend vroeg uit. De lava stroomt over de oostelijke flank van de berg, in de richting van het gebied waar de veertig chimpansees leven. In het wildpark in Congo zijn ook nog ongeveer 200 zeldzame berggorilla's. Hun leefgebied ten zuiden van de vulkaan wordt niet bedreigd. Actiefste In het gebied dat op de werelderfgoedlijst staat van de Unesco wonen vrijwel geen mensen. De vulkaan in de buurt van de oostelijke stad Goma is één van de actiefste van Afrika. Sinds 1882 is hij meer dan 35 keer tot uitbarsting gekomen. De laatste keer was vier jaar geleden.\\nurl: https://nos.nl/artikel/126498-vulkaan-congo-bedreigt-chimpansees.html\", metadata={'source': 'https://nos.nl/artikel/126498-vulkaan-congo-bedreigt-chimpansees.html', 'row': 42, 'title': 'Vulkaan Congo bedreigt chimpansees', 'datetime': '2010-01-02 19:52:00', 'category': 'Buitenland'})"
      ]
     },
     "execution_count": 30,
     "metadata": {},
     "output_type": "execute_result"
    }
   ],
   "source": [
    "data[42]"
   ]
  },
  {
   "cell_type": "code",
   "execution_count": 31,
   "metadata": {},
   "outputs": [
    {
     "name": "stdout",
     "output_type": "stream",
     "text": [
      "21 splits in total\n",
      "Metadata: {'source': 'https://nos.nl/artikel/126233-fout-justitie-in-blackwater-zaak.html', 'row': 2, 'title': 'Fout justitie in Blackwater-zaak', 'datetime': '2010-01-01 02:09:00', 'category': 'Buitenland', 'start_index': 0}\n",
      "Contents:\n",
      "\n",
      "content: Vijf werknemers van het omstreden Amerikaanse beveilingingsbedrijf Blackwater gaan vrijuit voor hun aandeel in een dodelijke schietpartij in Bagdad. De mannen werden verdacht van het doodschieten van zeventien Irakese burgers in 2007. Een rechter in Washington bepaalde dat het bewijs tegen hen niet rechtmatig is verkregen en heeft de zaak daarom niet-ontvankelijk verklaard. Beloofd De verdachten was door rechercheurs beloofd dat hun verklaringen alleen gebruikt zouden worden voor het onderzoek naar de schietpartij en dat die geen rol zouden spelen in een strafzaak. Justitie had dus aanvullend bewijs moeten vergaren, maar is daar volgens de rechter niet in geslaagd. De schietpartij op een plein in Bagdad veroorzaakte wereldwijd verontwaardiging, omdat de slachtoffers ongewapende burgers waren. Blackwater verzorgde destijds de beveiliging van Amerikaanse diplomaten in Irak. Volgens het bedrijf schoten de beveiligers uit zelfverdediging, maar uit officieel onderzoek kwam een\n"
     ]
    }
   ],
   "source": [
    "text_splitter = RecursiveCharacterTextSplitter(chunk_size=1000, chunk_overlap=200, add_start_index=True)\n",
    "splits = text_splitter.split_documents(data[:10])\n",
    "\n",
    "print(f\"{len(splits)} splits in total\")\n",
    "print(f\"Metadata: {splits[4].metadata}\")\n",
    "print(f\"Contents:\\n\\n{splits[4].page_content}\")"
   ]
  },
  {
   "cell_type": "code",
   "execution_count": 32,
   "metadata": {},
   "outputs": [],
   "source": [
    "# sentence-transformers/all-MiniLM-L6-v2\n",
    "vectorstore = Chroma.from_documents(documents=splits, embedding=HuggingFaceEmbeddings())"
   ]
  },
  {
   "cell_type": "code",
   "execution_count": 33,
   "metadata": {},
   "outputs": [
    {
     "name": "stdout",
     "output_type": "stream",
     "text": [
      "6 retrieved docs\n",
      "Contents:\n",
      "\n",
      "Ook in Kamp Holland hebben de Nederlandse militairen de jaarwisseling gevierd. Aan de zijkant van de\n"
     ]
    }
   ],
   "source": [
    "# Retrieve and generate using the relevant snippets of the blog.\n",
    "retriever = vectorstore.as_retriever(search_type=\"similarity\", search_kwargs={\"k\": 6})\n",
    "\n",
    "retrieved_docs = retriever.invoke(\"Welk bedrijf kwam recent in het nieuws?\")\n",
    "\n",
    "print(f\"{len(retrieved_docs)} retrieved docs\")\n",
    "print(f\"Contents:\\n\\n{retrieved_docs[0].page_content[:100]}\")"
   ]
  },
  {
   "cell_type": "code",
   "execution_count": null,
   "metadata": {},
   "outputs": [],
   "source": []
  }
 ],
 "metadata": {
  "kernelspec": {
   "display_name": "Python 3",
   "language": "python",
   "name": "python3"
  },
  "language_info": {
   "codemirror_mode": {
    "name": "ipython",
    "version": 3
   },
   "file_extension": ".py",
   "mimetype": "text/x-python",
   "name": "python",
   "nbconvert_exporter": "python",
   "pygments_lexer": "ipython3",
   "version": "3.9.11"
  }
 },
 "nbformat": 4,
 "nbformat_minor": 2
}
