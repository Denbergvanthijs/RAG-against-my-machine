{
 "cells": [
  {
   "cell_type": "code",
   "execution_count": 1,
   "metadata": {},
   "outputs": [],
   "source": [
    "import os\n",
    "\n",
    "import dotenv\n",
    "from langchain_chroma import Chroma\n",
    "from langchain_community.document_loaders.csv_loader import CSVLoader\n",
    "from langchain_community.embeddings import HuggingFaceEmbeddings\n",
    "from langchain_text_splitters import RecursiveCharacterTextSplitter\n",
    "\n",
    "dotenv.load_dotenv()\n",
    "\n",
    "os.environ[\"LANGCHAIN_TRACING_V2\"] = \"true\"\n",
    "os.environ[\"LANGCHAIN_API_KEY\"] = os.getenv(\"LANGCHAIN_API_KEY\")\n",
    "os.environ[\"HUGGINGFACEHUB_API_TOKEN\"] = os.getenv(\"HUGGINGFACEHUB_API_TOKEN\")"
   ]
  },
  {
   "cell_type": "markdown",
   "metadata": {},
   "source": [
    "# Reset and fill Vector Database"
   ]
  },
  {
   "cell_type": "code",
   "execution_count": 2,
   "metadata": {},
   "outputs": [],
   "source": [
    "# Parameters\n",
    "fp_data = \"./data/dutch-news-articles.csv\"\n",
    "\n",
    "# Splitting and data size\n",
    "chunk_size = 1_000\n",
    "chunk_overlap = 200\n",
    "N_docs = 100  # Set to None to process all documents\n",
    "\n",
    "# Embedding model for retrieval\n",
    "# embed_id = \"sentence-transformers/all-mpnet-base-v2\"\n",
    "# embed_id = \"sentence-transformers/all-MiniLM-L6-v2\"  # Faster model\n",
    "embed_id = \"paraphrase-multilingual-MiniLM-L12-v2\"  # Multilingual model, including Dutch\n",
    "embed_model_kwargs = {\"device\": \"cpu\"}\n",
    "embed_encode_kwargs = {\"normalize_embeddings\": False}\n"
   ]
  },
  {
   "cell_type": "code",
   "execution_count": 3,
   "metadata": {},
   "outputs": [
    {
     "name": "stdout",
     "output_type": "stream",
     "text": [
      "title: Enige Litouwse kerncentrale dicht\n",
      "content: De enige kerncentrale van Litouwen is oudjaarsavon\n",
      "jvoorbeeld gas uit Rusland. De kerncentrale leverde bijna driekwart van de Litouwse energiebehoefte.\n"
     ]
    }
   ],
   "source": [
    "# Load data from CSV, set metadata\n",
    "loader = CSVLoader(file_path=fp_data, encoding=\"utf-8\", source_column=\"url\", metadata_columns=[\"datetime\", \"category\", \"url\"])\n",
    "docs = loader.load()\n",
    "\n",
    "# Preview the first document\n",
    "print(docs[0].page_content[:100])\n",
    "print(docs[0].page_content[-100:])"
   ]
  },
  {
   "cell_type": "code",
   "execution_count": 4,
   "metadata": {},
   "outputs": [
    {
     "name": "stdout",
     "output_type": "stream",
     "text": [
      "220 splits in total\n"
     ]
    }
   ],
   "source": [
    "# Chunking the documents\n",
    "text_splitter = RecursiveCharacterTextSplitter(chunk_size=chunk_size, chunk_overlap=chunk_overlap, add_start_index=True)\n",
    "splits = text_splitter.split_documents(docs[:N_docs] if N_docs else docs)\n",
    "\n",
    "print(f\"{len(splits)} chuncks in total\")"
   ]
  },
  {
   "cell_type": "code",
   "execution_count": 5,
   "metadata": {},
   "outputs": [
    {
     "name": "stdout",
     "output_type": "stream",
     "text": [
      "Metadata: {'source': 'https://nos.nl/artikel/126231-enige-litouwse-kerncentrale-dicht.html', 'row': 0, 'datetime': '2010-01-01 00:49:00', 'category': 'Buitenland', 'url': 'https://nos.nl/artikel/126231-enige-litouwse-kerncentrale-dicht.html', 'start_index': 0}\n",
      "Contents:\n",
      "\n",
      "title: Enige Litouwse kerncentrale dicht\n",
      "content: De enige kerncentrale van Litouwen is oudjaarsavond om 23.00 uur buiten gebruik gesteld. Dat verliep zonder problemen, aldus de directeur. Litouwen beloofde al in 2004 om de centrale te sluiten in ruil voor toetreding tot de Europese Unie. De EU wilde sluiting omdat de kerncentrale bij de stad Visiginas mogelijk niet veilig was. Nucleaire ramp De centrale is een grotere versie van die bij Tsjernobyl. Die ontplofte in 1986 en veroorzaakte een nucleaire wolk die over een groot deel van Europa trok. Dat was de grootste nucleaire ramp in de geschiedenis. Voor Litouwen betekent de sluiting dat het land een goedkope bron van energie kwijt is. Het wordt nu veel afhankelijker van bijvoorbeeld gas uit Rusland. De kerncentrale leverde bijna driekwart van de Litouwse energiebehoefte.\n"
     ]
    }
   ],
   "source": [
    "print(f\"Metadata: {splits[0].metadata}\")\n",
    "print(f\"Contents:\\n\\n{splits[0].page_content}\")"
   ]
  },
  {
   "cell_type": "code",
   "execution_count": 7,
   "metadata": {},
   "outputs": [],
   "source": [
    "# Load embedding model for retrieval\n",
    "embed_model = HuggingFaceEmbeddings(model_name=embed_id, model_kwargs=embed_model_kwargs, encode_kwargs=embed_encode_kwargs)\n",
    "\n",
    "# Create the vectorstore, save to disk\n",
    "vectorstore = Chroma.from_documents(documents=splits, embedding=embed_model, persist_directory=\"./chroma_db\")  # Investigate persist_directory to store the vectorstore"
   ]
  },
  {
   "cell_type": "markdown",
   "metadata": {},
   "source": [
    "## Example"
   ]
  },
  {
   "cell_type": "code",
   "execution_count": 9,
   "metadata": {},
   "outputs": [],
   "source": [
    "# Parameters\n",
    "vectorstore_search_kwargs = {\"k\": 6}\n",
    "question = \"Welke kerncentrale is recent buiten bedrijf gesteld?\""
   ]
  },
  {
   "cell_type": "code",
   "execution_count": 8,
   "metadata": {},
   "outputs": [],
   "source": [
    "# Convert vectorstore to retriever\n",
    "retriever = vectorstore.as_retriever(search_type=\"similarity\", search_kwargs=vectorstore_search_kwargs)"
   ]
  },
  {
   "cell_type": "code",
   "execution_count": 11,
   "metadata": {},
   "outputs": [
    {
     "name": "stdout",
     "output_type": "stream",
     "text": [
      "6 retrieved docs\n",
      "Contents:\n",
      "Doc 0: title: Enige Litouwse kerncentrale dicht\n",
      "content: De enige kerncentrale van Litouwen is oudjaarsavond om 23.00 uur buiten gebruik gesteld. Dat verliep zonder problemen, aldus de directeur. Litouwen beloofde al in 2004 om de centrale te sluiten in ruil voor toetreding tot de Europese Unie. De EU wilde sluiting omdat de kerncentrale bij de stad Visiginas mogelijk niet veilig was. Nucleaire ramp De centrale is een grotere versie van die bij Tsjernobyl. Die ontplofte in 1986 en veroorzaakte een nucleaire wolk die over een groot deel van Europa trok. Dat was de grootste nucleaire ramp in de geschiedenis. Voor Litouwen betekent de sluiting dat het land een goedkope bron van energie kwijt is. Het wordt nu veel afhankelijker van bijvoorbeeld gas uit Rusland. De kerncentrale leverde bijna driekwart van de Litouwse energiebehoefte.\n",
      "Doc 1: Olympische organisatie, heeft 650 bedrijven gevraagd om het vervoer van werknemers terug te dringen, maar daarop is nog niet veel respons gekomen. Het is business as usual voor veel bedrijven. Andere ondernemingen werken nog aan een plan. Maar zou het niet prachtig zijn als na de Spelen automobilisten nog steeds gebruik maken van het openbaar vervoer, vraagt een woordvoerder van Vanoc zich af. Er is een trein gekomen, de Canada Line. Die rijdt vanaf het vliegveld naar Downtown Vancouver en Richmond, waar het schaatsen op het programma staat. Ook worden er extra bussen ingezet en komen er meer skytrains. En er zijn meer fiets- en wandelpaden aangelegd. Tot slot raadt Dobovolny iedereen die toch in de stad moet zijn aan om de website www.travelsmart2010.ca goed te volgen voor de dagelijkse updates.\n",
      "Doc 2: Skidmore, Owens en Meril (SOM) dat gespecialiseerd is in wolkenkrabbers. Zij ontwierpen onder andere de Sears Tower in Chicago en de Russia Tower in Moskou. Woestijnbloem Het ontwerp van de toren is gebaseerd op een lokale woestijnbloem en patronen uit de islamitische architectuur. Het heeft een centrale kern met drie ribben die naar boven toe steeds smaller worden. Aan de wolkenkrabber is meer dan vijf jaar gewerkt en de kosten zijn opgelopen tot ruim drie miljard euro. In het gebouw kunnen maximaal 12.000 mensen wonen. Die kunnen kiezen uit een van de 1044 appartementen met prijzen tot 3 miljoen euro per stuk. Daarnaast is er kantoorruimte te huur en is er een hotel en restaurant. Babel Op de 124e van de in totaal 160 verdiepingen is het hoogste uitzichtsplatform ter wereld. Voor de toren staat een fontein die het water maar liefst 274 meter omhoog schiet. Verder zijn op de 158ste verdieping de hoogste moskee gevestigd en op de 76ste het hoogste zwembad. In de parkeergarage is\n",
      "Doc 3: content: De luchthaven Schiphol koopt nog eens zestig bodyscanners. Er staan er nu zestien, maar de controles worden sterk uitgebreid. De eerste twintig nieuwe scanners staan er volgende week. De aanleiding is de mislukte aanslag op Eerste Kerstdag bij Detroit. Het poeder dat een Nigeriaanse terrorist op een vlucht van Northwest/Delta meenam zou wellicht bij een scan zijn ontdekt. De scanners kosten 150.000 euro per stuk. Als de overheid niet bijdraagt in de kosten zullen die voor rekening van de passagiers komen, zegt topman Nijhuis van Schiphol. Sterk gedaald Verder maakte Schiphol vandaag bekend dat het aantal vliegtuigpassagiers dat reist via Schiphol vorig jaar sterk is gedaald. Volgens voorlopige cijfers reisden 43,5 miljoen mensen via de luchthaven, een afname van 8,4 procent. Schiphol zag het aantal reizigers al langer achteruitgaan, maar niet eerder zo sterk. Een jaar geleden was de daling nog 0,8 procent. Ook het vrachtvervoer via Schiphol nam flink af, met meer dan 18\n",
      "Doc 4: Het betrof echter slechts een mondeling akkoord. Toen DSB failliet ging en curatoren het bewind overnamen, erkenden zij de regeling niet. Oproep Stichting Probleemhypotheken is voortgekomen uit de stichting DSB Ramp. DSB Ramp op zijn beurt heeft samengewerkt met de stichting Hypotheekleed, waarvan bedrijvenonderzoeker Pieter Lakeman de voorzitter is. In augustus vorig jaar gingen de stichtingen uit elkaar wegens een verschil van inzicht. Lakeman is degene die in oktober mensen opriep hun geld bij DSB weg te halen. Korte tijd later ging DSB failliet.\n",
      "Doc 5: title: FNV-actie tegen uitbuiting Polen\n",
      "content: FNV Bondgenoten heeft vanmorgen bij de Groningse vleesverwerker Beusmeat in Leek actie gevoerd tegen de uitbuiting van 150 Poolse uitzendkrachten. De bond deelde bij de poort pamfletten uit om de Polen te steunen. Volgens de bond krijgen ze minder dan het minimumloon en hebben ze een 50-urige werkweek. Hun 120 Nederlandse collega's worden wel uitbetaald volgens de cao en werken 36 uur. De FNV-bond eist dat dat verschil verdwijnt. Ook is de bond boos dat drie van de vier productielijnen waar de Polen werken, sneller zijn afgesteld dan die waar de Nederlanders draaien.\n"
     ]
    }
   ],
   "source": [
    "# Retrieve documents\n",
    "retrieved_docs = retriever.invoke(question)\n",
    "\n",
    "print(f\"{len(retrieved_docs)} retrieved docs\")\n",
    "print(\"Contents:\")\n",
    "for i, doc in enumerate(retrieved_docs):\n",
    "    print(f\"Doc {i}:\\t{doc.page_content}\")"
   ]
  },
  {
   "cell_type": "code",
   "execution_count": null,
   "metadata": {},
   "outputs": [],
   "source": []
  }
 ],
 "metadata": {
  "kernelspec": {
   "display_name": "Python 3",
   "language": "python",
   "name": "python3"
  },
  "language_info": {
   "codemirror_mode": {
    "name": "ipython",
    "version": 3
   },
   "file_extension": ".py",
   "mimetype": "text/x-python",
   "name": "python",
   "nbconvert_exporter": "python",
   "pygments_lexer": "ipython3",
   "version": "3.9.11"
  }
 },
 "nbformat": 4,
 "nbformat_minor": 2
}
