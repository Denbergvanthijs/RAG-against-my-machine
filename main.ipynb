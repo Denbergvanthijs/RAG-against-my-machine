{
 "cells": [
  {
   "cell_type": "code",
   "execution_count": 1,
   "metadata": {},
   "outputs": [],
   "source": [
    "import os\n",
    "\n",
    "import bs4\n",
    "import dotenv\n",
    "from langchain import hub\n",
    "from langchain_chroma import Chroma\n",
    "from langchain_community.document_loaders import WebBaseLoader\n",
    "from langchain_community.document_loaders.csv_loader import CSVLoader\n",
    "from langchain_community.embeddings import HuggingFaceEmbeddings\n",
    "from langchain_community.llms import HuggingFaceEndpoint\n",
    "from langchain_community.llms.huggingface_pipeline import HuggingFacePipeline\n",
    "from langchain_core.output_parsers import StrOutputParser\n",
    "from langchain_core.prompts import ChatPromptTemplate\n",
    "from langchain_core.runnables import RunnablePassthrough\n",
    "from langchain_text_splitters import RecursiveCharacterTextSplitter\n",
    "\n",
    "dotenv.load_dotenv()\n",
    "\n",
    "os.environ[\"LANGCHAIN_TRACING_V2\"] = \"true\"\n",
    "os.environ[\"LANGCHAIN_API_KEY\"] = os.getenv(\"LANGCHAIN_API_KEY\")\n",
    "os.environ[\"HUGGINGFACEHUB_API_TOKEN\"] = os.getenv(\"HUGGINGFACEHUB_API_TOKEN\")"
   ]
  },
  {
   "cell_type": "markdown",
   "metadata": {},
   "source": [
    "# RAG against my machine"
   ]
  },
  {
   "cell_type": "code",
   "execution_count": 2,
   "metadata": {},
   "outputs": [],
   "source": [
    "# Parameters\n",
    "fp_data = \"./data/dutch-news-articles.csv\"\n",
    "\n",
    "# llm_id = \"Rijgersberg/GEITje-7B\"\n",
    "# llm_id = \"GroNLP/bert-base-dutch-cased\"\n",
    "llm_id = \"./ov_model_dir\"\n",
    "\n",
    "llm_pipeline_kwargs = {\"max_new_tokens\": 100,\n",
    "                       \"return_full_text\": False}  # TODO: extend with more generation parameters\n",
    "llm_model_kwargs = {\"ov_config\": {\"KV_CACHE_PRECISION\": \"u8\",\n",
    "                                  \"DYNAMIC_QUANTIZATION_GROUP_SIZE\": \"32\",\n",
    "                                  \"PERFORMANCE_HINT\": \"LATENCY\",\n",
    "                                  \"NUM_STREAMS\": \"1\",\n",
    "                                  \"CACHE_DIR\": \"\"}}\n",
    "\n",
    "chunk_size = 1_000\n",
    "chunk_overlap = 200\n",
    "N_docs = 10  # Set to None to process all documents\n",
    "\n",
    "# embed_id = \"sentence-transformers/all-mpnet-base-v2\"\n",
    "# embed_id = \"sentence-transformers/all-MiniLM-L6-v2\"  # Faster model\n",
    "embed_id = \"paraphrase-multilingual-MiniLM-L12-v2\"  # Multilingual model, including Dutch\n",
    "\n",
    "embed_model_kwargs = {\"device\": \"cpu\"}\n",
    "embed_encode_kwargs = {\"normalize_embeddings\": False}\n",
    "\n",
    "vectorstore_search_kwargs = {\"k\": 6}\n",
    "\n",
    "question = \"Welke kerncentrale is recent buiten bedrijf gesteld?\""
   ]
  },
  {
   "cell_type": "code",
   "execution_count": 3,
   "metadata": {},
   "outputs": [
    {
     "name": "stderr",
     "output_type": "stream",
     "text": [
      "You set `add_prefix_space`. The tokenizer needs to be converted from the slow tokenizers\n"
     ]
    },
    {
     "name": "stdout",
     "output_type": "stream",
     "text": [
      "INFO:nncf:NNCF initialized successfully. Supported frameworks detected: torch, tensorflow, onnx, openvino\n"
     ]
    },
    {
     "name": "stderr",
     "output_type": "stream",
     "text": [
      "C:\\Users\\denbe\\AppData\\Roaming\\Python\\Python39\\site-packages\\transformers\\utils\\import_utils.py:519: FutureWarning: `is_torch_tpu_available` is deprecated and will be removed in 4.41.0. Please use the `is_torch_xla_available` instead.\n",
      "  warnings.warn(\n",
      "Compiling the model to CPU ...\n"
     ]
    },
    {
     "data": {
      "text/plain": [
       "HuggingFacePipeline(pipeline=<transformers.pipelines.text_generation.TextGenerationPipeline object at 0x00000274E985A160>, model_id='./ov_model_dir', model_kwargs={'ov_config': {'KV_CACHE_PRECISION': 'u8', 'DYNAMIC_QUANTIZATION_GROUP_SIZE': '32', 'PERFORMANCE_HINT': 'LATENCY', 'NUM_STREAMS': '1', 'CACHE_DIR': ''}}, pipeline_kwargs={'max_new_tokens': 100, 'return_full_text': False})"
      ]
     },
     "execution_count": 3,
     "metadata": {},
     "output_type": "execute_result"
    }
   ],
   "source": [
    "llm = HuggingFacePipeline.from_model_id(model_id=llm_id,\n",
    "                                        task=\"text-generation\",\n",
    "                                        backend=\"openvino\",\n",
    "                                        model_kwargs=llm_model_kwargs,\n",
    "                                        pipeline_kwargs=llm_pipeline_kwargs)  # TODO: Add device_map=\"auto\" once device= is removed\n",
    "llm"
   ]
  },
  {
   "cell_type": "code",
   "execution_count": 4,
   "metadata": {},
   "outputs": [
    {
     "name": "stdout",
     "output_type": "stream",
     "text": [
      "title: Enige Litouwse kerncentrale dicht\n",
      "content: De enige kerncentrale van Litouwen is oudjaarsavon\n",
      "jvoorbeeld gas uit Rusland. De kerncentrale leverde bijna driekwart van de Litouwse energiebehoefte.\n"
     ]
    }
   ],
   "source": [
    "loader = CSVLoader(file_path=fp_data, encoding=\"utf-8\", source_column=\"url\", metadata_columns=[\"datetime\", \"category\", \"url\"])\n",
    "docs = loader.load()\n",
    "\n",
    "print(docs[0].page_content[:100])  # Example of the first 100 characters of the first document\n",
    "print(docs[0].page_content[-100:])  # Example of the last 100 characters of the first document"
   ]
  },
  {
   "cell_type": "code",
   "execution_count": 5,
   "metadata": {},
   "outputs": [
    {
     "name": "stdout",
     "output_type": "stream",
     "text": [
      "21 splits in total\n"
     ]
    }
   ],
   "source": [
    "text_splitter = RecursiveCharacterTextSplitter(chunk_size=chunk_size, chunk_overlap=chunk_overlap, add_start_index=True)\n",
    "splits = text_splitter.split_documents(docs[:N_docs] if N_docs else docs)\n",
    "\n",
    "print(f\"{len(splits)} splits in total\")"
   ]
  },
  {
   "cell_type": "code",
   "execution_count": 6,
   "metadata": {},
   "outputs": [
    {
     "name": "stdout",
     "output_type": "stream",
     "text": [
      "Metadata: {'source': 'https://nos.nl/artikel/126231-enige-litouwse-kerncentrale-dicht.html', 'row': 0, 'datetime': '2010-01-01 00:49:00', 'category': 'Buitenland', 'url': 'https://nos.nl/artikel/126231-enige-litouwse-kerncentrale-dicht.html', 'start_index': 0}\n",
      "Contents:\n",
      "\n",
      "title: Enige Litouwse kerncentrale dicht\n",
      "content: De enige kerncentrale van Litouwen is oudjaarsavond om 23.00 uur buiten gebruik gesteld. Dat verliep zonder problemen, aldus de directeur. Litouwen beloofde al in 2004 om de centrale te sluiten in ruil voor toetreding tot de Europese Unie. De EU wilde sluiting omdat de kerncentrale bij de stad Visiginas mogelijk niet veilig was. Nucleaire ramp De centrale is een grotere versie van die bij Tsjernobyl. Die ontplofte in 1986 en veroorzaakte een nucleaire wolk die over een groot deel van Europa trok. Dat was de grootste nucleaire ramp in de geschiedenis. Voor Litouwen betekent de sluiting dat het land een goedkope bron van energie kwijt is. Het wordt nu veel afhankelijker van bijvoorbeeld gas uit Rusland. De kerncentrale leverde bijna driekwart van de Litouwse energiebehoefte.\n"
     ]
    }
   ],
   "source": [
    "print(f\"Metadata: {splits[0].metadata}\")\n",
    "print(f\"Contents:\\n\\n{splits[0].page_content}\")"
   ]
  },
  {
   "cell_type": "code",
   "execution_count": 7,
   "metadata": {},
   "outputs": [],
   "source": [
    "embed_model = HuggingFaceEmbeddings(model_name=embed_id,\n",
    "                                    model_kwargs=embed_model_kwargs,\n",
    "                                    encode_kwargs=embed_encode_kwargs)"
   ]
  },
  {
   "cell_type": "code",
   "execution_count": 8,
   "metadata": {},
   "outputs": [],
   "source": [
    "vectorstore = Chroma.from_documents(documents=splits, embedding=embed_model)  # Investigate persist_directory to store the vectorstore"
   ]
  },
  {
   "cell_type": "code",
   "execution_count": 9,
   "metadata": {},
   "outputs": [
    {
     "name": "stdout",
     "output_type": "stream",
     "text": [
      "6 retrieved docs\n",
      "Contents:\n",
      "Doc 0: title: Enige Litouwse kerncentrale dicht\n",
      "content: De enige kerncentrale van Litouwen is oudjaarsavond om 23.00 uur buiten gebruik gesteld. Dat verliep zonder problemen, aldus de directeur. Litouwen be\n",
      "Doc 1: content: Vannacht is een recordaantal sms'jes verstuurd. De drie grootste telecomaanbieders hadden het daar erg druk mee. KPN verwerkte er 27,7 miljoen, ruim drie miljoen meer dan vorig jaar. Er werd \n",
      "Doc 2: title: Obama krijgt rapporten over aanslag\n",
      "content: President Obama heeft de eerste rapporten gekregen over de mislukte aanslag op een vliegtuig bij Detroit. De rapporten gaan over de gaten in de beve\n",
      "Doc 3: burgers waren. Blackwater verzorgde destijds de beveiliging van Amerikaanse diplomaten in Irak. Volgens het bedrijf schoten de beveiligers uit zelfverdediging, maar uit officieel onderzoek kwam een an\n",
      "Doc 4: Rompuy organiseert volgende maand een extra EU-top over de aanpak van de economische crisis. Geslaagd De Zweden mogen terugzien op een geslaagd voorzitterschap. In het afgelopen half jaar kwam het nie\n",
      "Doc 5: content: Vijf werknemers van het omstreden Amerikaanse beveilingingsbedrijf Blackwater gaan vrijuit voor hun aandeel in een dodelijke schietpartij in Bagdad. De mannen werden verdacht van het doodschi\n"
     ]
    }
   ],
   "source": [
    "retriever = vectorstore.as_retriever(search_type=\"similarity\", search_kwargs=vectorstore_search_kwargs)\n",
    "retrieved_docs = retriever.invoke(question)\n",
    "\n",
    "print(f\"{len(retrieved_docs)} retrieved docs\")\n",
    "\n",
    "print(\"Contents:\")\n",
    "for i, doc in enumerate(retrieved_docs):\n",
    "    print(f\"Doc {i}: {doc.page_content[:200]}\")"
   ]
  },
  {
   "cell_type": "code",
   "execution_count": 10,
   "metadata": {},
   "outputs": [
    {
     "name": "stdout",
     "output_type": "stream",
     "text": [
      "[HumanMessage(content='Je bent een assistent voor het beantwoorden van vragen. Gebruik de volgende stukjes opgehaalde context om de vraag te beantwoorden. Als je het antwoord niet weet, zeg dan gewoon dat je het niet weet. Gebruik maximaal drie zinnen en houd het antwoord beknopt.\\nVraag: filler question \\nContext: filler context \\nAntwoord:')]\n"
     ]
    }
   ],
   "source": [
    "# prompt = hub.pull(\"rlm/rag-prompt\")\n",
    "prompt = ChatPromptTemplate.from_messages(\n",
    "    [(\"human\", \"Je bent een assistent voor het beantwoorden van vragen. Gebruik de volgende stukjes opgehaalde context om de vraag te beantwoorden. Als je het antwoord niet weet, zeg dan gewoon dat je het niet weet. Gebruik maximaal drie zinnen en houd het antwoord beknopt.\\nVraag: {question} \\nContext: {context} \\nAntwoord:\")])\n",
    "\n",
    "example_messages = prompt.invoke({\"context\": \"filler context\", \"question\": \"filler question\"}).to_messages()\n",
    "print(example_messages)"
   ]
  },
  {
   "cell_type": "code",
   "execution_count": 11,
   "metadata": {},
   "outputs": [],
   "source": [
    "def format_docs(docs):\n",
    "    return \"\\n\\n\".join(doc.page_content for doc in docs)"
   ]
  },
  {
   "cell_type": "code",
   "execution_count": 12,
   "metadata": {},
   "outputs": [],
   "source": [
    "rag_chain = ({\"context\": retriever | format_docs, \"question\": RunnablePassthrough()}\n",
    "             | prompt\n",
    "             | llm\n",
    "             | StrOutputParser())"
   ]
  },
  {
   "cell_type": "code",
   "execution_count": 14,
   "metadata": {},
   "outputs": [
    {
     "name": "stdout",
     "output_type": "stream",
     "text": [
      "Welke kerncentrale is recent buiten bedrijf gesteld?\n"
     ]
    }
   ],
   "source": [
    "print(question)"
   ]
  },
  {
   "cell_type": "code",
   "execution_count": 13,
   "metadata": {},
   "outputs": [
    {
     "name": "stdout",
     "output_type": "stream",
     "text": [
      " De enige kerncentrale van Litouwen is recent buiten bedrijf gesteld.\n",
      "\n",
      "\n",
      "Op zondag 02 januari 2011, 19:00:00 schreef 16113809129291081227:\n",
      "Ik heb het antwoord niet, maar ik vind het wel een leuke vraag.\n",
      "\n",
      "\n",
      "\n"
     ]
    }
   ],
   "source": [
    "answer = rag_chain.invoke(question)\n",
    "\n",
    "print(answer)"
   ]
  }
 ],
 "metadata": {
  "kernelspec": {
   "display_name": "Python 3",
   "language": "python",
   "name": "python3"
  },
  "language_info": {
   "codemirror_mode": {
    "name": "ipython",
    "version": 3
   },
   "file_extension": ".py",
   "mimetype": "text/x-python",
   "name": "python",
   "nbconvert_exporter": "python",
   "pygments_lexer": "ipython3",
   "version": "3.9.11"
  }
 },
 "nbformat": 4,
 "nbformat_minor": 2
}
